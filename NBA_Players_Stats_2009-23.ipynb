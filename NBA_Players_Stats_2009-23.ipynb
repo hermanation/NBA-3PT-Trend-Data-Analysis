{
 "cells": [
  {
   "cell_type": "code",
   "execution_count": 1,
   "id": "cc49b1ca-8c82-422f-acc3-1b6734953e14",
   "metadata": {},
   "outputs": [],
   "source": [
    "import pandas as pd\n",
    "import requests\n",
    "pd.set_option('display.max_columns', None) # so we can see all columns in a wide Dataframe\n",
    "import time\n",
    "import numpy as np"
   ]
  },
  {
   "cell_type": "code",
   "execution_count": 2,
   "id": "26462bc0-6699-4683-b770-12df6f5eaff1",
   "metadata": {},
   "outputs": [],
   "source": [
    "test_url = 'https://stats.nba.com/stats/leagueLeaders?LeagueID=00&PerMode=Totals&Scope=S&Season=2012-13&SeasonType=Regular%20Season&StatCategory=PTS'"
   ]
  },
  {
   "cell_type": "code",
   "execution_count": 3,
   "id": "1d19e803-11ff-4fb7-b6a6-0eabb9209867",
   "metadata": {},
   "outputs": [],
   "source": [
    "r = requests.get(url=test_url).json()"
   ]
  },
  {
   "cell_type": "code",
   "execution_count": 4,
   "id": "f36c7cd1-dcd2-4621-9b52-067143386414",
   "metadata": {},
   "outputs": [],
   "source": [
    "table_headers = r['resultSet']['headers']"
   ]
  },
  {
   "cell_type": "code",
   "execution_count": 5,
   "id": "5a87c01c-b0a1-4ef2-9835-04752edc4a53",
   "metadata": {},
   "outputs": [],
   "source": [
    "df_cols=['Year', 'Season_type'] + table_headers"
   ]
  },
  {
   "cell_type": "code",
   "execution_count": 6,
   "id": "2128875d-f7ea-42e8-b7fa-91a307a7dcef",
   "metadata": {},
   "outputs": [],
   "source": [
    "headers = {\n",
    "'accept': '*/*',\n",
    "'accept-encoding': 'gzip, deflate, br, zstd',\n",
    "'accept-language':'en-CA,en;q=0.9,zh-HK;q=0.8,zh;q=0.7,en-US;q=0.6,yue-HK;q=0.5,yue;q=0.4,en-GB;q=0.3',\n",
    "'cache-control':'no-cache',\n",
    "'connection':'keep-alive',\n",
    "'host':'stats.nba.com',\n",
    "'origin':'https://www.nba.com',\n",
    "'pragma':'no-cache',\n",
    "'referer':'https://www.nba.com/',\n",
    "'sec-ch-ua':'\"Not A(Brand\";v=\"8\", \"Chromium\";v=\"132\", \"Google Chrome\";v=\"132\"',\n",
    "'sec-ch-ua-mobile':'?1',\n",
    "'sec-ch-ua-platform':'\"Android\"',\n",
    "'sec-fetch-dest':'empty',\n",
    "'sec-fetch-mode':'cors',\n",
    "'sec-fetch-site':'same-site',\n",
    "'user-agent':'Mozilla/5.0 (Linux; Android 6.0; Nexus 5 Build/MRA58N) AppleWebKit/537.36 (KHTML, like Gecko) Chrome/132.0.0.0 Mobile Safari/537.36'\n",
    "}"
   ]
  },
  {
   "cell_type": "code",
   "execution_count": 7,
   "id": "8c07f7c8-186b-4b38-9964-727ed8136e5c",
   "metadata": {},
   "outputs": [
    {
     "name": "stderr",
     "output_type": "stream",
     "text": [
      "C:\\Users\\herma\\AppData\\Local\\Temp\\ipykernel_33696\\139485872.py:15: FutureWarning: The behavior of DataFrame concatenation with empty or all-NA entries is deprecated. In a future version, this will no longer exclude empty or all-NA columns when determining the result dtypes. To retain the old behavior, exclude the relevant entries before the concat operation.\n",
      "  df = pd.concat([df, temp_df3], axis=0)\n"
     ]
    },
    {
     "name": "stdout",
     "output_type": "stream",
     "text": [
      "Finished scraping data for the 2009-10 Regular%20Season.\n",
      "...waiting 12.8 seconds\n",
      "Finished scraping data for the 2009-10 Playoffs.\n",
      "...waiting 9.5 seconds\n",
      "Finished scraping data for the 2010-11 Regular%20Season.\n",
      "...waiting 38.5 seconds\n",
      "Finished scraping data for the 2010-11 Playoffs.\n",
      "...waiting 34.5 seconds\n",
      "Finished scraping data for the 2011-12 Regular%20Season.\n",
      "...waiting 30.9 seconds\n",
      "Finished scraping data for the 2011-12 Playoffs.\n",
      "...waiting 27.9 seconds\n",
      "Finished scraping data for the 2012-13 Regular%20Season.\n",
      "...waiting 17.9 seconds\n",
      "Finished scraping data for the 2012-13 Playoffs.\n",
      "...waiting 39.1 seconds\n",
      "Finished scraping data for the 2013-14 Regular%20Season.\n",
      "...waiting 21.8 seconds\n",
      "Finished scraping data for the 2013-14 Playoffs.\n",
      "...waiting 7.0 seconds\n",
      "Finished scraping data for the 2014-15 Regular%20Season.\n",
      "...waiting 11.8 seconds\n",
      "Finished scraping data for the 2014-15 Playoffs.\n",
      "...waiting 35.8 seconds\n",
      "Finished scraping data for the 2015-16 Regular%20Season.\n",
      "...waiting 8.6 seconds\n",
      "Finished scraping data for the 2015-16 Playoffs.\n",
      "...waiting 23.7 seconds\n",
      "Finished scraping data for the 2016-17 Regular%20Season.\n",
      "...waiting 7.3 seconds\n",
      "Finished scraping data for the 2016-17 Playoffs.\n",
      "...waiting 11.4 seconds\n",
      "Finished scraping data for the 2017-18 Regular%20Season.\n",
      "...waiting 32.1 seconds\n",
      "Finished scraping data for the 2017-18 Playoffs.\n",
      "...waiting 9.7 seconds\n",
      "Finished scraping data for the 2018-19 Regular%20Season.\n",
      "...waiting 27.1 seconds\n",
      "Finished scraping data for the 2018-19 Playoffs.\n",
      "...waiting 19.6 seconds\n",
      "Finished scraping data for the 2019-20 Regular%20Season.\n",
      "...waiting 18.8 seconds\n",
      "Finished scraping data for the 2019-20 Playoffs.\n",
      "...waiting 12.6 seconds\n",
      "Finished scraping data for the 2020-21 Regular%20Season.\n",
      "...waiting 39.5 seconds\n",
      "Finished scraping data for the 2020-21 Playoffs.\n",
      "...waiting 33.2 seconds\n",
      "Finished scraping data for the 2021-22 Regular%20Season.\n",
      "...waiting 23.4 seconds\n",
      "Finished scraping data for the 2021-22 Playoffs.\n",
      "...waiting 16.9 seconds\n",
      "Finished scraping data for the 2022-23 Regular%20Season.\n",
      "...waiting 20.3 seconds\n",
      "Finished scraping data for the 2022-23 Playoffs.\n",
      "...waiting 21.5 seconds\n",
      "Process completed! Total run time: 10.4\n"
     ]
    }
   ],
   "source": [
    "df = pd.DataFrame(columns=df_cols)\n",
    "season_types = ['Regular%20Season','Playoffs']\n",
    "years = ['2009-10','2010-11','2011-12','2012-13','2013-14','2014-15','2015-16','2016-17','2017-18','2018-19','2019-20','2020-21','2021-22','2022-23']\n",
    "\n",
    "begin_loop = time.time()\n",
    "\n",
    "for y in years:\n",
    "    for s in season_types:\n",
    "        api_url = 'https://stats.nba.com/stats/leagueLeaders?LeagueID=00&PerMode=Totals&Scope=S&Season='+ y +'&SeasonType='+s+'&StatCategory=PTS'\n",
    "        r = requests.get(url=api_url).json() \n",
    "        temp_df1 = pd.DataFrame(r['resultSet']['rowSet'], columns=table_headers)\n",
    "        temp_df2 = pd.DataFrame({'Year':[y for i in range(len(temp_df1))], \n",
    "                                'Season_type:':[s for i in range(len(temp_df1))]})\n",
    "        temp_df3 = pd.concat([temp_df2,temp_df1], axis=1)\n",
    "        df = pd.concat([df, temp_df3], axis=0)\n",
    "        print(f'Finished scraping data for the {y} {s}.')\n",
    "        lag = np.random.uniform(low=5, high=40)\n",
    "        print(f'...waiting {round(lag,1)} seconds')\n",
    "        time.sleep(lag)\n",
    "print(f'Process completed! Total run time: {round((time.time()-begin_loop)/60,2)}')\n",
    "df.to_excel('nba_player_data.xlsx', index=False)"
   ]
  },
  {
   "cell_type": "code",
   "execution_count": null,
   "id": "671a380f-c60b-477c-b539-0f7cdaf5abdc",
   "metadata": {},
   "outputs": [],
   "source": []
  }
 ],
 "metadata": {
  "kernelspec": {
   "display_name": "Python 3 (ipykernel)",
   "language": "python",
   "name": "python3"
  },
  "language_info": {
   "codemirror_mode": {
    "name": "ipython",
    "version": 3
   },
   "file_extension": ".py",
   "mimetype": "text/x-python",
   "name": "python",
   "nbconvert_exporter": "python",
   "pygments_lexer": "ipython3",
   "version": "3.13.1"
  }
 },
 "nbformat": 4,
 "nbformat_minor": 5
}
